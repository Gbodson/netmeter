{
 "cells": [
  {
   "cell_type": "code",
   "execution_count": 1,
   "id": "550527fb",
   "metadata": {},
   "outputs": [
    {
     "name": "stdout",
     "output_type": "stream",
     "text": [
      "0.000189 0.000135\n",
      "0.0 6.6e-05\n",
      "0.0 0.0\n",
      "0.001189 0.002173\n",
      "0.0 0.0\n"
     ]
    },
    {
     "ename": "SystemExit",
     "evalue": "0",
     "output_type": "error",
     "traceback": [
      "An exception has occurred, use %tb to see the full traceback.\n",
      "\u001b[1;31mSystemExit\u001b[0m\u001b[1;31m:\u001b[0m 0\n"
     ]
    },
    {
     "name": "stderr",
     "output_type": "stream",
     "text": [
      "C:\\Users\\haichen\\anaconda3\\lib\\site-packages\\IPython\\core\\interactiveshell.py:3465: UserWarning: To exit: use 'exit', 'quit', or Ctrl-D.\n",
      "  warn(\"To exit: use 'exit', 'quit', or Ctrl-D.\", stacklevel=1)\n"
     ]
    }
   ],
   "source": [
    "import sys\n",
    "from PyQt5.QtWidgets import QApplication, QWidget, QVBoxLayout, QPushButton, QLabel\n",
    "from PyQt5.QtCore import pyqtSignal\n",
    "from speed_test_UI import speed_test_UI\n",
    "from main_UI import main_menu\n",
    "from history import History_UI\n",
    "class MainWindow(QWidget):\n",
    "    def __init__(self):\n",
    "        super().__init__()\n",
    "\n",
    "        self.page1 = main_menu()\n",
    "        self.page2 = speed_test_UI()\n",
    "        self.page3 = History_UI()\n",
    "\n",
    "        self.page1.switch_to_test.connect(self.show_page2)\n",
    "        self.page2.switch_to_track.connect(self.show_page1)\n",
    "        self.page3.switch_to_the_main.connect(self.p3_to_p1)\n",
    "        self.page1.switch_to_history.connect(self.p1_to_p3)\n",
    "                                          \n",
    "        self.page1.show()\n",
    "        self.page2.hide()\n",
    "        self.page3.hide()\n",
    "\n",
    "    def show_page1(self):\n",
    "        self.page1.show()\n",
    "        self.page2.hide()\n",
    "        page2_geometry = self.page2.frameGeometry()\n",
    "        self.page1.move(page2_geometry.topLeft())\n",
    "\n",
    "    def show_page2(self):\n",
    "        self.page1.hide()\n",
    "        self.page2.show()\n",
    "        page1_geometry = self.page1.frameGeometry()\n",
    "        self.page2.move(page1_geometry.topLeft())\n",
    "    def p3_to_p1(self):\n",
    "        self.page3.hide()\n",
    "        self.page1.show()\n",
    "        page3_geometry = self.page3.frameGeometry()\n",
    "        self.page1.move(page3_geometry.topLeft())\n",
    "    def p1_to_p3(self):\n",
    "        self.page3.updateTable()\n",
    "        self.page1.hide()\n",
    "        self.page3.show()\n",
    "        page1_geometry = self.page1.frameGeometry()\n",
    "        self.page3.move(page1_geometry.topLeft())\n",
    "        \n",
    "if __name__ == \"__main__\":\n",
    "    app = QApplication(sys.argv)\n",
    "\n",
    "    window = MainWindow()\n",
    "\n",
    "    sys.exit(app.exec_())"
   ]
  },
  {
   "cell_type": "code",
   "execution_count": null,
   "id": "ba610966",
   "metadata": {},
   "outputs": [],
   "source": []
  },
  {
   "cell_type": "code",
   "execution_count": null,
   "id": "ff41c696",
   "metadata": {},
   "outputs": [],
   "source": []
  }
 ],
 "metadata": {
  "kernelspec": {
   "display_name": "Python 3 (ipykernel)",
   "language": "python",
   "name": "python3"
  },
  "language_info": {
   "codemirror_mode": {
    "name": "ipython",
    "version": 3
   },
   "file_extension": ".py",
   "mimetype": "text/x-python",
   "name": "python",
   "nbconvert_exporter": "python",
   "pygments_lexer": "ipython3",
   "version": "3.9.13"
  }
 },
 "nbformat": 4,
 "nbformat_minor": 5
}
